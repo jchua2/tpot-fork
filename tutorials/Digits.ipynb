{
 "cells": [
  {
   "cell_type": "code",
   "execution_count": 1,
   "metadata": {
    "collapsed": false,
    "deletable": true,
    "editable": true
   },
   "outputs": [],
   "source": [
    "from tpot import TPOTClassifier\n",
    "from sklearn.datasets import load_digits\n",
    "from sklearn.model_selection import train_test_split"
   ]
  },
  {
   "cell_type": "code",
   "execution_count": 2,
   "metadata": {
    "collapsed": false,
    "deletable": true,
    "editable": true
   },
   "outputs": [
    {
     "data": {
      "text/plain": [
       "((1347, 64), (450, 64), (1347,), (450,))"
      ]
     },
     "execution_count": 2,
     "metadata": {},
     "output_type": "execute_result"
    }
   ],
   "source": [
    "digits = load_digits()\n",
    "X_train, X_test, y_train, y_test = train_test_split(digits.data, digits.target,\n",
    "                                                    train_size=0.75, test_size=0.25)\n",
    "X_train.shape, X_test.shape, y_train.shape, y_test.shape"
   ]
  },
  {
   "cell_type": "code",
   "execution_count": 3,
   "metadata": {
    "collapsed": false,
    "deletable": true,
    "editable": true
   },
   "outputs": [
    {
     "name": "stdout",
     "output_type": "stream",
     "text": [
      "                                                                            \n",
      "5.12 minutes have elapsed. TPOT will close down.                            \n",
      "TPOT closed during evaluation in one generation.\n",
      "WARNING: TPOT may not provide a good pipeline if TPOT is stopped/interrupted in a early generation.\n",
      "                                                                            \n",
      "                                                                            \n",
      "TPOT closed prematurely. Will use the current best pipeline.\n",
      "                                                                            \n",
      "Best pipeline: MLPClassifier(SelectFwe(input_matrix, alpha=0.045), alpha=0.1, learning_rate_init=0.001)\n",
      "0.9644444444444444\n"
     ]
    }
   ],
   "source": [
    "tpot = TPOTClassifier(verbosity=2, max_time_mins=5, population_size=40)\n",
    "tpot.fit(X_train, y_train)\n",
    "print(tpot.score(X_test, y_test))"
   ]
  },
  {
   "cell_type": "code",
   "execution_count": 17,
   "metadata": {
    "collapsed": false,
    "deletable": true,
    "editable": true
   },
   "outputs": [],
   "source": [
    "tpot.export('tpot_digits_pipeline.py')"
   ]
  },
  {
   "cell_type": "code",
   "execution_count": 6,
   "metadata": {},
   "outputs": [],
   "source": [
    "# save sklearn datasets to parquet\n",
    "import pandas as pd\n",
    "from sklearn.datasets import load_digits\n",
    "digits = load_digits()\n",
    "df = pd.DataFrame(digits.data, columns=digits.feature_names)\n",
    "df['target'] = digits.target\n",
    "df.to_parquet('digits.parquet')\n"
   ]
  },
  {
   "cell_type": "code",
   "execution_count": 20,
   "metadata": {
    "collapsed": true,
    "deletable": true,
    "editable": true
   },
   "outputs": [
    {
     "name": "stdout",
     "output_type": "stream",
     "text": [
      "0.9911111111111112\n",
      "[5 0 5 7 6 1 1 2 2 8 1 5 2 6 7 0 2 6 3 3 1 5 3 4 2 0 8 4 8 5 9 0 3 8 3 3 9\n",
      " 2 2 1 3 2 6 9 8 3 4 7 6 0 8 5 5 4 9 1 5 6 3 4 6 5 2 1 6 8 4 4 2 1 0 9 1 0\n",
      " 3 1 7 3 8 3 4 0 7 9 8 5 2 0 2 0 2 3 7 2 4 4 6 2 4 8 2 0 8 4 6 2 8 7 7 6 6\n",
      " 4 5 5 0 5 2 3 4 6 1 7 3 9 4 4 8 4 4 5 6 1 0 6 5 8 2 6 1 2 9 0 9 8 3 8 8 8\n",
      " 3 2 8 8 2 0 1 3 8 6 2 9 4 2 9 3 5 5 5 3 3 6 2 1 9 5 0 1 5 5 5 6 6 2 0 4 5\n",
      " 0 1 7 9 3 0 9 9 6 5 8 7 8 8 6 4 5 4 5 1 5 3 9 5 9 5 5 7 4 1 5 5 4 1 7 3 2\n",
      " 2 4 9 2 7 2 6 1 8 5 8 8 4 4 7 4 1 3 9 6 6 8 0 2 8 6 7 6 7 7 8 4 3 5 2 3 0\n",
      " 8 4 8 0 5 7 6 3 2 4 4 0 7 9 2 0 8 9 7 2 8 4 3 4 7 5 7 6 9 9 0 4 0 5 6 8 5\n",
      " 5 5 1 9 5 6 7 6 4 8 8 8 2 5 0 0 5 2 8 1 8 0 9 4 3 2 5 3 9 9 2 8 5 6 1 0 8\n",
      " 7 0 2 4 1 5 6 4 5 8 4 5 5 9 3 4 4 9 5 5 8 0 8 4 2 2 1 3 6 3 1 0 0 1 0 2 4\n",
      " 6 7 7 4 6 6 9 1 1 8 4 6 8 5 6 3 9 6 2 1 1 4 9 9 6 7 0 1 6 7 4 4 2 5 0 0 1\n",
      " 7 3 3 8 1 6 3 4 4 6 0 6 0 5 1 0 1 9 6 1 1 7 2 4 3 4 5 5 7 7 1 9 8 6 8 3 5\n",
      " 7 9 9 6 5 2]\n"
     ]
    }
   ],
   "source": [
    "# %load tpot_digits_pipeline.py\n",
    "import numpy as np\n",
    "import pandas as pd\n",
    "from sklearn.model_selection import train_test_split\n",
    "from sklearn.neighbors import KNeighborsClassifier\n",
    "\n",
    "# NOTE: Make sure that the outcome column is labeled 'target' in the data file\n",
    "# Load parquet file into dataframe\n",
    "tpot_data = pd.read_parquet('digits.parquet')\n",
    "#tpot_data = pd.read_csv('PATH/TO/DATA/FILE', sep='COLUMN_SEPARATOR', dtype=np.float64)\n",
    "features = tpot_data.drop('target', axis=1)\n",
    "training_features, testing_features, training_classes, testing_classes = \\\n",
    "            train_test_split(features, tpot_data['target'], random_state=None)\n",
    "\n",
    "exported_pipeline = KNeighborsClassifier(n_neighbors=4, p=2, weights=\"distance\")\n",
    "\n",
    "exported_pipeline.fit(training_features, training_classes)\n",
    "results = exported_pipeline.predict(testing_features)\n",
    "print(exported_pipeline.score(testing_features, testing_classes))\n",
    "print(results)"
   ]
  },
  {
   "cell_type": "code",
   "execution_count": 15,
   "metadata": {},
   "outputs": [
    {
     "data": {
      "text/plain": [
       "['digits_model.joblib']"
      ]
     },
     "execution_count": 15,
     "metadata": {},
     "output_type": "execute_result"
    }
   ],
   "source": [
    "# Save the model\n",
    "import joblib\n",
    "joblib.dump(exported_pipeline, 'digits_model.joblib')"
   ]
  }
 ],
 "metadata": {
  "anaconda-cloud": {},
  "kernelspec": {
   "display_name": "Python [default]",
   "language": "python",
   "name": "python3"
  },
  "language_info": {
   "codemirror_mode": {
    "name": "ipython",
    "version": 3
   },
   "file_extension": ".py",
   "mimetype": "text/x-python",
   "name": "python",
   "nbconvert_exporter": "python",
   "pygments_lexer": "ipython3",
   "version": "3.11.6"
  }
 },
 "nbformat": 4,
 "nbformat_minor": 0
}
