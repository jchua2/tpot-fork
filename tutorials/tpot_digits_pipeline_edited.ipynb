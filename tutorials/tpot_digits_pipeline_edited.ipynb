{
 "cells": [
  {
   "cell_type": "code",
   "execution_count": 2,
   "metadata": {},
   "outputs": [],
   "source": [
    "import pandas as pd\n",
    "from sklearn.feature_selection import SelectFwe, f_classif\n",
    "from sklearn.model_selection import train_test_split\n",
    "from sklearn.neural_network import MLPClassifier\n",
    "from sklearn.pipeline import make_pipeline\n",
    "import joblib"
   ]
  },
  {
   "cell_type": "code",
   "execution_count": 3,
   "metadata": {},
   "outputs": [],
   "source": [
    "# NOTE: Make sure that the outcome column is labeled 'target' in the data file\n",
    "tpot_data = pd.read_parquet('digits.parquet')\n",
    "features = tpot_data.drop('target', axis=1)\n",
    "training_features, testing_features, training_target, testing_target = \\\n",
    "            train_test_split(features, tpot_data['target'], random_state=None)"
   ]
  },
  {
   "cell_type": "code",
   "execution_count": 4,
   "metadata": {},
   "outputs": [],
   "source": [
    "# Average CV score on the training set was: 0.9703263114415531\n",
    "exported_pipeline = make_pipeline(\n",
    "    SelectFwe(score_func=f_classif, alpha=0.045),\n",
    "    MLPClassifier(alpha=0.1, learning_rate_init=0.001)\n",
    ")"
   ]
  },
  {
   "cell_type": "code",
   "execution_count": 5,
   "metadata": {},
   "outputs": [
    {
     "name": "stderr",
     "output_type": "stream",
     "text": [
      "/Users/jchua/miniconda3/envs/py311/lib/python3.11/site-packages/sklearn/feature_selection/_univariate_selection.py:112: UserWarning: Features [ 0 32 39] are constant.\n",
      "  warnings.warn(\"Features %s are constant.\" % constant_features_idx, UserWarning)\n",
      "/Users/jchua/miniconda3/envs/py311/lib/python3.11/site-packages/sklearn/feature_selection/_univariate_selection.py:113: RuntimeWarning: invalid value encountered in divide\n",
      "  f = msb / msw\n"
     ]
    },
    {
     "name": "stdout",
     "output_type": "stream",
     "text": [
      "0.9822222222222222\n",
      "[0 9 7 1 7 1 1 0 3 2 2 5 6 6 4 0 8 2 2 1 9 7 8 8 7 9 1 8 2 0 0 5 5 6 5 5 7\n",
      " 2 0 5 9 0 7 2 1 2 3 8 9 0 2 7 9 5 3 3 5 1 9 7 2 7 2 0 8 9 9 6 2 2 9 7 3 2\n",
      " 9 9 3 4 3 4 0 1 7 9 0 7 6 2 8 5 6 9 9 9 2 3 4 6 0 6 0 3 2 7 9 6 7 9 5 0 5\n",
      " 6 9 8 9 1 1 7 7 5 7 1 8 4 4 5 6 8 1 9 1 2 5 0 1 5 8 9 6 7 5 2 5 7 5 8 4 0\n",
      " 7 6 8 1 6 3 2 3 5 0 7 7 0 5 7 6 0 2 0 8 0 4 6 5 0 4 3 3 7 4 8 1 2 4 4 2 4\n",
      " 0 9 9 1 0 5 4 9 7 8 6 0 1 4 0 7 2 4 2 2 5 3 6 5 4 7 9 4 9 2 6 6 3 1 3 9 2\n",
      " 1 7 1 7 3 4 1 9 0 4 6 2 4 7 1 6 3 2 4 2 5 3 2 5 9 5 9 6 8 6 8 3 3 8 6 6 9\n",
      " 7 1 0 4 8 1 0 1 9 5 9 3 6 4 4 6 0 4 3 9 4 4 3 6 3 9 9 3 7 6 2 9 2 8 9 6 2\n",
      " 3 5 2 3 7 8 2 6 4 8 7 0 4 0 7 6 1 8 5 3 0 6 6 8 1 2 4 0 3 7 6 0 6 6 7 0 1\n",
      " 8 2 7 7 6 2 9 3 0 1 9 9 2 2 0 9 1 8 3 7 9 8 2 5 7 8 3 0 3 9 3 7 9 9 1 1 3\n",
      " 9 5 7 8 0 1 2 4 8 7 5 6 1 0 9 1 0 5 1 6 2 1 9 1 6 4 7 6 8 7 4 7 5 1 6 5 9\n",
      " 6 5 4 6 0 1 1 3 7 5 9 4 4 4 0 8 7 5 8 8 7 6 6 1 9 7 6 4 5 1 7 7 8 0 5 6 2\n",
      " 4 6 8 2 8 4]\n"
     ]
    }
   ],
   "source": [
    "exported_pipeline.fit(training_features, training_target)\n",
    "results = exported_pipeline.predict(testing_features)\n",
    "print(exported_pipeline.score(testing_features, testing_target))\n",
    "print(results)"
   ]
  },
  {
   "cell_type": "code",
   "execution_count": 7,
   "metadata": {},
   "outputs": [
    {
     "data": {
      "text/plain": [
       "['tpot_digits_model.joblib']"
      ]
     },
     "execution_count": 7,
     "metadata": {},
     "output_type": "execute_result"
    }
   ],
   "source": [
    "# Save the model\n",
    "joblib.dump(exported_pipeline, 'tpot_digits_model.joblib')"
   ]
  }
 ],
 "metadata": {
  "kernelspec": {
   "display_name": "py311",
   "language": "python",
   "name": "python3"
  },
  "language_info": {
   "codemirror_mode": {
    "name": "ipython",
    "version": 3
   },
   "file_extension": ".py",
   "mimetype": "text/x-python",
   "name": "python",
   "nbconvert_exporter": "python",
   "pygments_lexer": "ipython3",
   "version": "3.11.6"
  }
 },
 "nbformat": 4,
 "nbformat_minor": 2
}
