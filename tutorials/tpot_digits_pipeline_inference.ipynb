{
 "cells": [
  {
   "cell_type": "code",
   "execution_count": 100,
   "metadata": {},
   "outputs": [],
   "source": [
    "import pandas as pd\n",
    "from sklearn.model_selection import train_test_split\n",
    "from sklearn.pipeline import make_pipeline\n",
    "import joblib"
   ]
  },
  {
   "cell_type": "code",
   "execution_count": 101,
   "metadata": {},
   "outputs": [],
   "source": [
    "# NOTE: Make sure that the outcome column is labeled 'target' in the data file\n",
    "tpot_data = pd.read_parquet('digits.parquet')\n",
    "features = tpot_data.drop('target', axis=1)\n",
    "training_features, testing_features, training_target, testing_target = \\\n",
    "            train_test_split(features, tpot_data['target'], random_state=None)"
   ]
  },
  {
   "cell_type": "code",
   "execution_count": 102,
   "metadata": {},
   "outputs": [],
   "source": [
    "# load joblib file into exported_pipeline\n",
    "exported_pipeline = joblib.load('tpot_digits_model.joblib')"
   ]
  },
  {
   "cell_type": "code",
   "execution_count": 103,
   "metadata": {},
   "outputs": [
    {
     "name": "stdout",
     "output_type": "stream",
     "text": [
      "0.9911111111111112\n",
      "[2 7 1 5 8 1 6 0 6 1 5 7 3 7 9 0 5 9 3 0 1 2 8 0 2 3 9 6 3 4 2 8 3 4 2 1 8\n",
      " 1 8 6 5 1 5 4 6 1 1 5 3 8 0 2 3 5 3 4 0 2 1 3 1 7 0 0 0 3 4 7 4 5 5 8 3 7\n",
      " 1 0 9 7 9 2 7 0 7 8 0 9 8 1 2 6 1 3 1 4 1 8 4 5 9 5 2 3 2 9 8 0 7 5 9 4 9\n",
      " 6 1 6 4 9 2 3 7 3 6 9 1 0 9 7 6 3 5 6 0 5 0 8 9 0 1 7 7 3 8 4 6 2 0 0 4 9\n",
      " 6 1 9 7 0 8 6 2 4 3 7 4 9 9 3 6 9 9 5 7 4 7 6 8 8 7 3 1 6 0 4 6 9 7 8 9 4\n",
      " 0 6 9 9 7 1 9 0 7 6 4 2 8 2 9 5 2 5 8 0 4 4 2 1 1 6 0 0 2 0 2 3 8 7 8 3 1\n",
      " 4 6 1 7 3 5 8 4 0 7 0 9 0 8 6 9 1 9 5 5 1 0 4 1 1 2 4 6 5 3 5 5 6 8 2 0 8\n",
      " 3 6 7 5 7 3 4 0 4 2 7 0 7 3 9 2 0 2 5 4 8 4 9 0 5 2 0 1 5 6 3 0 5 8 1 2 4\n",
      " 8 1 3 9 3 5 4 5 6 4 0 8 8 1 9 2 2 9 7 4 3 0 5 4 4 0 9 7 5 3 2 4 6 4 4 0 5\n",
      " 4 0 5 5 2 3 3 5 5 8 7 0 2 5 9 6 4 2 5 9 6 0 6 8 6 8 7 7 0 2 0 4 9 7 6 0 6\n",
      " 3 9 0 7 6 6 5 4 5 8 4 9 6 3 6 2 0 6 9 5 7 0 7 8 3 2 5 8 9 3 4 4 0 0 5 5 4\n",
      " 4 8 1 5 9 4 3 1 3 8 2 7 4 2 0 0 2 4 0 4 5 4 6 8 1 1 9 7 7 3 4 8 8 6 1 4 1\n",
      " 3 8 3 9 6 2]\n"
     ]
    }
   ],
   "source": [
    "results = exported_pipeline.predict(testing_features)\n",
    "print(exported_pipeline.score(testing_features, testing_target))\n",
    "print(results)"
   ]
  },
  {
   "cell_type": "code",
   "execution_count": 104,
   "metadata": {},
   "outputs": [
    {
     "data": {
      "text/plain": [
       "['tpot_digits_model.joblib']"
      ]
     },
     "execution_count": 104,
     "metadata": {},
     "output_type": "execute_result"
    }
   ],
   "source": [
    "# Save the model\n",
    "joblib.dump(exported_pipeline, 'tpot_digits_model.joblib')"
   ]
  }
 ],
 "metadata": {
  "kernelspec": {
   "display_name": "py311",
   "language": "python",
   "name": "python3"
  },
  "language_info": {
   "codemirror_mode": {
    "name": "ipython",
    "version": 3
   },
   "file_extension": ".py",
   "mimetype": "text/x-python",
   "name": "python",
   "nbconvert_exporter": "python",
   "pygments_lexer": "ipython3",
   "version": "3.11.6"
  }
 },
 "nbformat": 4,
 "nbformat_minor": 2
}
